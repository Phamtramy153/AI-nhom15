{
 "cells": [
  {
   "cell_type": "code",
   "execution_count": 1,
   "id": "92bef4a6-fa27-4bb5-89b4-b519a2af1465",
   "metadata": {},
   "outputs": [],
   "source": [
    "import numpy as np\n",
    "import pandas as pd\n",
    "from sklearn.model_selection import train_test_split\n",
    "from sklearn.metrics import classification_report, confusion_matrix\n",
    "from tensorflow.keras.models import Sequential\n",
    "from tensorflow.keras.layers import LSTM, Dense, Flatten, Input\n",
    "from tensorflow.keras.utils import to_categorical\n",
    "from tensorflow.keras.optimizers import Adam\n",
    "from PIL import Image\n",
    "import matplotlib.pyplot as plt"
   ]
  },
  {
   "cell_type": "code",
   "execution_count": 2,
   "id": "9011d604-8e24-420e-8d05-f6c288fa8cfb",
   "metadata": {},
   "outputs": [],
   "source": [
    "# Đọc dữ liệu\n",
    "data = pd.read_csv('A_Z Handwritten Data.csv').astype('float32')"
   ]
  },
  {
   "cell_type": "code",
   "execution_count": 3,
   "id": "1591c9fe-da21-40f7-9c93-42ea0ca9d3bb",
   "metadata": {},
   "outputs": [],
   "source": [
    "#Tiền xử lý dữ liệu \n",
    "from sklearn.model_selection import train_test_split\n",
    "from keras.utils import to_categorical\n",
    "\n",
    "# Tách dữ liệu thành ảnh và nhãn\n",
    "X = data.drop('0', axis=1).values\n",
    "y = data['0'].values\n",
    "\n",
    "\n",
    "X = X.reshape(-1, 28, 28, 1)\n",
    "\n",
    "# Chuẩn hóa dữ liệu\n",
    "X = X / 255.0\n",
    "\n",
    "# Chuyển đổi nhãn thành one-hot encoding\n",
    "y = to_categorical(y, num_classes=26)\n",
    "\n",
    "# Phân chia dữ liệu thành tập huấn luyện và tập kiểm tra\n",
    "X_train, X_test, y_train, y_test = train_test_split(X, y, test_size=0.2, random_state=42)"
   ]
  },
  {
   "cell_type": "code",
   "execution_count": 4,
   "id": "1e07c503-65db-4bbc-8399-09e539695c31",
   "metadata": {},
   "outputs": [],
   "source": [
    "# Xây dựng mô hình LSTM\n",
    "model = Sequential([\n",
    "    Input(shape=(28, 28)),\n",
    "    LSTM(128, return_sequences=True),\n",
    "    Flatten(),\n",
    "    Dense(128, activation='relu'),\n",
    "    Dense(26, activation='softmax')\n",
    "])"
   ]
  },
  {
   "cell_type": "code",
   "execution_count": 5,
   "id": "3a033aba-083d-41c0-8af8-4a8156550e82",
   "metadata": {},
   "outputs": [],
   "source": [
    "model.compile(optimizer=Adam(learning_rate=0.001), loss='categorical_crossentropy', metrics=['accuracy'])"
   ]
  },
  {
   "cell_type": "code",
   "execution_count": 7,
   "id": "88dee507-1b64-4995-a483-cf0425eecf55",
   "metadata": {},
   "outputs": [
    {
     "name": "stdout",
     "output_type": "stream",
     "text": [
      "Epoch 1/10\n",
      "\u001b[1m4656/4656\u001b[0m \u001b[32m━━━━━━━━━━━━━━━━━━━━\u001b[0m\u001b[37m\u001b[0m \u001b[1m174s\u001b[0m 37ms/step - accuracy: 0.9966 - loss: 0.0097 - val_accuracy: 0.9931 - val_loss: 0.0342\n",
      "Epoch 2/10\n",
      "\u001b[1m4656/4656\u001b[0m \u001b[32m━━━━━━━━━━━━━━━━━━━━\u001b[0m\u001b[37m\u001b[0m \u001b[1m178s\u001b[0m 38ms/step - accuracy: 0.9970 - loss: 0.0091 - val_accuracy: 0.9921 - val_loss: 0.0399\n",
      "Epoch 3/10\n",
      "\u001b[1m4656/4656\u001b[0m \u001b[32m━━━━━━━━━━━━━━━━━━━━\u001b[0m\u001b[37m\u001b[0m \u001b[1m173s\u001b[0m 37ms/step - accuracy: 0.9971 - loss: 0.0093 - val_accuracy: 0.9928 - val_loss: 0.0353\n",
      "Epoch 4/10\n",
      "\u001b[1m4656/4656\u001b[0m \u001b[32m━━━━━━━━━━━━━━━━━━━━\u001b[0m\u001b[37m\u001b[0m \u001b[1m174s\u001b[0m 37ms/step - accuracy: 0.9973 - loss: 0.0085 - val_accuracy: 0.9936 - val_loss: 0.0376\n",
      "Epoch 5/10\n",
      "\u001b[1m4656/4656\u001b[0m \u001b[32m━━━━━━━━━━━━━━━━━━━━\u001b[0m\u001b[37m\u001b[0m \u001b[1m168s\u001b[0m 36ms/step - accuracy: 0.9977 - loss: 0.0071 - val_accuracy: 0.9937 - val_loss: 0.0386\n",
      "Epoch 6/10\n",
      "\u001b[1m4656/4656\u001b[0m \u001b[32m━━━━━━━━━━━━━━━━━━━━\u001b[0m\u001b[37m\u001b[0m \u001b[1m168s\u001b[0m 36ms/step - accuracy: 0.9976 - loss: 0.0075 - val_accuracy: 0.9939 - val_loss: 0.0391\n",
      "Epoch 7/10\n",
      "\u001b[1m4656/4656\u001b[0m \u001b[32m━━━━━━━━━━━━━━━━━━━━\u001b[0m\u001b[37m\u001b[0m \u001b[1m201s\u001b[0m 43ms/step - accuracy: 0.9977 - loss: 0.0077 - val_accuracy: 0.9934 - val_loss: 0.0409\n",
      "Epoch 8/10\n",
      "\u001b[1m4656/4656\u001b[0m \u001b[32m━━━━━━━━━━━━━━━━━━━━\u001b[0m\u001b[37m\u001b[0m \u001b[1m255s\u001b[0m 55ms/step - accuracy: 0.9980 - loss: 0.0068 - val_accuracy: 0.9938 - val_loss: 0.0382\n",
      "Epoch 9/10\n",
      "\u001b[1m4656/4656\u001b[0m \u001b[32m━━━━━━━━━━━━━━━━━━━━\u001b[0m\u001b[37m\u001b[0m \u001b[1m198s\u001b[0m 42ms/step - accuracy: 0.9980 - loss: 0.0062 - val_accuracy: 0.9948 - val_loss: 0.0357\n",
      "Epoch 10/10\n",
      "\u001b[1m4656/4656\u001b[0m \u001b[32m━━━━━━━━━━━━━━━━━━━━\u001b[0m\u001b[37m\u001b[0m \u001b[1m199s\u001b[0m 43ms/step - accuracy: 0.9981 - loss: 0.0067 - val_accuracy: 0.9947 - val_loss: 0.0400\n"
     ]
    }
   ],
   "source": [
    "# Huấn luyện mô hình\n",
    "history = model.fit(X_train, y_train, epochs=10, batch_size=64, validation_data=(X_test, y_test))"
   ]
  },
  {
   "cell_type": "code",
   "execution_count": 8,
   "id": "134638c6-6bee-4a14-a8db-9164adb2326f",
   "metadata": {},
   "outputs": [
    {
     "name": "stderr",
     "output_type": "stream",
     "text": [
      "WARNING:absl:You are saving your model as an HDF5 file via `model.save()` or `keras.saving.save_model(model)`. This file format is considered legacy. We recommend using instead the native Keras format, e.g. `model.save('my_model.keras')` or `keras.saving.save_model(model, 'my_model.keras')`. \n"
     ]
    }
   ],
   "source": [
    "# Lưu mô hình\n",
    "model.save('/mnt/data/handwritten_character_recognition_lstm.h5')"
   ]
  },
  {
   "cell_type": "code",
   "execution_count": 9,
   "id": "82da711d-40db-48b8-b873-17bd05148b43",
   "metadata": {},
   "outputs": [
    {
     "name": "stdout",
     "output_type": "stream",
     "text": [
      "\u001b[1m2328/2328\u001b[0m \u001b[32m━━━━━━━━━━━━━━━━━━━━\u001b[0m\u001b[37m\u001b[0m \u001b[1m25s\u001b[0m 11ms/step - accuracy: 0.9944 - loss: 0.0414\n",
      "Loss trên tập kiểm tra: 0.0400318019092083\n",
      "Độ chính xác trên tập kiểm tra: 0.9946972727775574\n"
     ]
    }
   ],
   "source": [
    "# Đánh giá mô hình\n",
    "loss, accuracy = model.evaluate(X_test, y_test)\n",
    "print(f\"Loss trên tập kiểm tra: {loss}\")\n",
    "print(f\"Độ chính xác trên tập kiểm tra: {accuracy}\")"
   ]
  },
  {
   "cell_type": "code",
   "execution_count": 10,
   "id": "d2058df5-23e3-4e92-a3be-4c39063835ee",
   "metadata": {},
   "outputs": [
    {
     "name": "stdout",
     "output_type": "stream",
     "text": [
      "\u001b[1m2328/2328\u001b[0m \u001b[32m━━━━━━━━━━━━━━━━━━━━\u001b[0m\u001b[37m\u001b[0m \u001b[1m26s\u001b[0m 11ms/step\n"
     ]
    }
   ],
   "source": [
    "# Dự đoán trên tập kiểm tra\n",
    "y_pred = model.predict(X_test)\n",
    "y_pred_classes = np.argmax(y_pred, axis=1)\n",
    "y_true = np.argmax(y_test, axis=1)"
   ]
  },
  {
   "cell_type": "code",
   "execution_count": 11,
   "id": "560de5b0-4e9a-4a06-be70-401a5102d09a",
   "metadata": {},
   "outputs": [
    {
     "name": "stdout",
     "output_type": "stream",
     "text": [
      "\n",
      "Classification Report:\n",
      "\n",
      "              precision    recall  f1-score   support\n",
      "\n",
      "           A       1.00      1.00      1.00      2806\n",
      "           B       0.99      0.99      0.99      1673\n",
      "           C       1.00      1.00      1.00      4742\n",
      "           D       0.99      0.97      0.98      2044\n",
      "           E       1.00      0.99      1.00      2214\n",
      "           F       0.99      0.98      0.99       231\n",
      "           G       0.99      0.99      0.99      1183\n",
      "           H       0.99      0.98      0.99      1466\n",
      "           I       0.98      0.99      0.98       237\n",
      "           J       0.99      0.99      0.99      1668\n",
      "           K       0.98      0.99      0.99      1132\n",
      "           L       0.99      1.00      0.99      2319\n",
      "           M       0.99      0.99      0.99      2487\n",
      "           N       0.99      1.00      0.99      3756\n",
      "           O       1.00      1.00      1.00     11629\n",
      "           P       1.00      1.00      1.00      3868\n",
      "           Q       0.99      0.99      0.99      1159\n",
      "           R       1.00      1.00      1.00      2296\n",
      "           S       1.00      1.00      1.00      9556\n",
      "           T       1.00      1.00      1.00      4447\n",
      "           U       1.00      1.00      1.00      5860\n",
      "           V       0.98      0.99      0.99       823\n",
      "           W       0.99      0.99      0.99      2198\n",
      "           X       1.00      0.98      0.99      1269\n",
      "           Y       0.99      0.99      0.99      2202\n",
      "           Z       0.99      1.00      0.99      1225\n",
      "\n",
      "    accuracy                           0.99     74490\n",
      "   macro avg       0.99      0.99      0.99     74490\n",
      "weighted avg       0.99      0.99      0.99     74490\n",
      "\n"
     ]
    }
   ],
   "source": [
    "# Báo cáo đánh giá\n",
    "print(\"\\nClassification Report:\\n\")\n",
    "print(classification_report(y_true, y_pred_classes, target_names=[chr(i + ord('A')) for i in range(26)]))"
   ]
  },
  {
   "cell_type": "code",
   "execution_count": 12,
   "id": "79f32535-d98f-431e-a902-cc16b13ba403",
   "metadata": {},
   "outputs": [
    {
     "name": "stdout",
     "output_type": "stream",
     "text": [
      "\n",
      "Confusion Matrix:\n",
      "\n",
      "[[ 2793     0     1     0     0     1     0     1     0     0     2     0\n",
      "      1     1     0     0     1     2     0     2     1     0     0     0\n",
      "      0     0]\n",
      " [    2  1662     0     0     0     0     1     0     1     0     0     0\n",
      "      0     0     1     0     0     2     2     0     0     0     0     0\n",
      "      0     2]\n",
      " [    0     1  4723     0     2     0     1     0     2     0     0     8\n",
      "      0     0     0     1     0     0     2     0     2     0     0     0\n",
      "      0     0]\n",
      " [    0     2     0  1989     0     0     1     0     0     1     0     0\n",
      "      0     1    40    10     0     0     0     0     0     0     0     0\n",
      "      0     0]\n",
      " [    0     2     4     0  2201     1     2     0     0     0     0     2\n",
      "      0     0     0     0     0     0     0     0     0     0     0     0\n",
      "      0     2]\n",
      " [    0     0     0     0     0   227     1     0     0     0     0     1\n",
      "      0     0     0     1     0     0     0     1     0     0     0     0\n",
      "      0     0]\n",
      " [    0     2     3     0     0     0  1170     0     0     0     0     0\n",
      "      0     0     4     0     0     0     0     0     0     0     4     0\n",
      "      0     0]\n",
      " [    3     0     0     0     0     0     1  1438     0     0     3     0\n",
      "      4    10     0     0     0     0     0     0     0     0     2     3\n",
      "      0     2]\n",
      " [    0     0     0     0     0     0     1     0   235     1     0     0\n",
      "      0     0     0     0     0     0     0     0     0     0     0     0\n",
      "      0     0]\n",
      " [    0     0     0     2     0     0     0     0     3  1651     0     0\n",
      "      0     0     1     0     0     0     5     5     1     0     0     0\n",
      "      0     0]\n",
      " [    0     0     0     0     1     0     0     0     0     0  1126     1\n",
      "      0     0     0     0     0     2     0     0     2     0     0     0\n",
      "      0     0]\n",
      " [    0     0     3     0     0     0     0     0     0     1     2  2309\n",
      "      0     0     0     0     0     0     0     0     0     0     0     0\n",
      "      0     4]\n",
      " [    3     0     0     0     0     0     0     6     0     0     2     0\n",
      "   2466     2     0     0     0     2     0     0     2     0     1     2\n",
      "      1     0]\n",
      " [    0     0     0     0     0     0     0     2     0     0     1     0\n",
      "      4  3740     0     0     2     2     0     0     0     0     2     0\n",
      "      3     0]\n",
      " [    0     4     0    19     0     0     2     0     0     0     0     0\n",
      "      0     0 11599     0     3     0     0     0     2     0     0     0\n",
      "      0     0]\n",
      " [    0     2     0     3     0     0     0     0     0     0     0     0\n",
      "      0     0     0  3859     2     0     0     0     0     0     0     0\n",
      "      2     0]\n",
      " [    0     0     0     0     0     0     3     0     0     0     0     0\n",
      "      0     0     5     1  1148     0     0     0     1     0     1     0\n",
      "      0     0]\n",
      " [    2     1     0     0     0     0     0     0     0     0     0     0\n",
      "      0     0     0     0     3  2287     0     0     0     0     0     0\n",
      "      2     1]\n",
      " [    0     0     0     1     0     0     1     0     0     8     0     1\n",
      "      0     0     0     0     0     0  9543     0     0     0     0     0\n",
      "      2     0]\n",
      " [    0     0     0     0     0     0     0     0     0     6     3     1\n",
      "      0     0     0     0     0     0     1  4435     0     0     0     0\n",
      "      1     0]\n",
      " [    0     0     0     0     0     0     0     2     0     2     0     0\n",
      "      0     2     0     0     0     0     2     0  5839     9     2     0\n",
      "      2     0]\n",
      " [    0     0     0     0     0     0     0     0     0     0     0     0\n",
      "      0     0     0     0     0     0     0     0     0   818     0     0\n",
      "      5     0]\n",
      " [    0     0     0     0     0     0     0     0     0     0     0     0\n",
      "      2     9     0     0     0     0     0     0     5     1  2180     0\n",
      "      1     0]\n",
      " [    0     0     0     0     0     0     0     0     0     0     7     0\n",
      "      2     0     0     0     0     0     0     1     0     0     0  1248\n",
      "      8     3]\n",
      " [    0     0     0     0     0     0     0     0     0     0     1     1\n",
      "      0     0     2     0     0     0     0     3     3     3     0     1\n",
      "   2188     0]\n",
      " [    0     0     0     2     0     0     0     0     0     0     0     2\n",
      "      0     0     0     0     0     0     0     0     0     0     0     0\n",
      "      0  1221]]\n"
     ]
    }
   ],
   "source": [
    "# Ma trận nhầm lẫn\n",
    "print(\"\\nConfusion Matrix:\\n\")\n",
    "print(confusion_matrix(y_true, y_pred_classes))"
   ]
  },
  {
   "cell_type": "code",
   "execution_count": 13,
   "id": "b005688f-dc6f-4aa1-aef1-7aa0672d8b73",
   "metadata": {},
   "outputs": [
    {
     "name": "stderr",
     "output_type": "stream",
     "text": [
      "C:\\Users\\ADMIN\\anaconda3\\Lib\\site-packages\\keras\\src\\saving\\saving_lib.py:415: UserWarning: Skipping variable loading for optimizer 'rmsprop', because it has 9 variables whereas the saved optimizer has 16 variables. \n",
      "  saveable.load_own_variables(weights_store.get(inner_path))\n"
     ]
    },
    {
     "data": {
      "text/html": [
       "<pre style=\"white-space:pre;overflow-x:auto;line-height:normal;font-family:Menlo,'DejaVu Sans Mono',consolas,'Courier New',monospace\"><span style=\"font-weight: bold\">Model: \"sequential\"</span>\n",
       "</pre>\n"
      ],
      "text/plain": [
       "\u001b[1mModel: \"sequential\"\u001b[0m\n"
      ]
     },
     "metadata": {},
     "output_type": "display_data"
    },
    {
     "data": {
      "text/html": [
       "<pre style=\"white-space:pre;overflow-x:auto;line-height:normal;font-family:Menlo,'DejaVu Sans Mono',consolas,'Courier New',monospace\">┏━━━━━━━━━━━━━━━━━━━━━━━━━━━━━━━━━━━━━━┳━━━━━━━━━━━━━━━━━━━━━━━━━━━━━┳━━━━━━━━━━━━━━━━━┓\n",
       "┃<span style=\"font-weight: bold\"> Layer (type)                         </span>┃<span style=\"font-weight: bold\"> Output Shape                </span>┃<span style=\"font-weight: bold\">         Param # </span>┃\n",
       "┡━━━━━━━━━━━━━━━━━━━━━━━━━━━━━━━━━━━━━━╇━━━━━━━━━━━━━━━━━━━━━━━━━━━━━╇━━━━━━━━━━━━━━━━━┩\n",
       "│ lstm (<span style=\"color: #0087ff; text-decoration-color: #0087ff\">LSTM</span>)                          │ (<span style=\"color: #00d7ff; text-decoration-color: #00d7ff\">None</span>, <span style=\"color: #00af00; text-decoration-color: #00af00\">28</span>, <span style=\"color: #00af00; text-decoration-color: #00af00\">128</span>)             │          <span style=\"color: #00af00; text-decoration-color: #00af00\">80,384</span> │\n",
       "├──────────────────────────────────────┼─────────────────────────────┼─────────────────┤\n",
       "│ flatten (<span style=\"color: #0087ff; text-decoration-color: #0087ff\">Flatten</span>)                    │ (<span style=\"color: #00d7ff; text-decoration-color: #00d7ff\">None</span>, <span style=\"color: #00af00; text-decoration-color: #00af00\">3584</span>)                │               <span style=\"color: #00af00; text-decoration-color: #00af00\">0</span> │\n",
       "├──────────────────────────────────────┼─────────────────────────────┼─────────────────┤\n",
       "│ dense (<span style=\"color: #0087ff; text-decoration-color: #0087ff\">Dense</span>)                        │ (<span style=\"color: #00d7ff; text-decoration-color: #00d7ff\">None</span>, <span style=\"color: #00af00; text-decoration-color: #00af00\">128</span>)                 │         <span style=\"color: #00af00; text-decoration-color: #00af00\">458,880</span> │\n",
       "├──────────────────────────────────────┼─────────────────────────────┼─────────────────┤\n",
       "│ dense_1 (<span style=\"color: #0087ff; text-decoration-color: #0087ff\">Dense</span>)                      │ (<span style=\"color: #00d7ff; text-decoration-color: #00d7ff\">None</span>, <span style=\"color: #00af00; text-decoration-color: #00af00\">26</span>)                  │           <span style=\"color: #00af00; text-decoration-color: #00af00\">3,354</span> │\n",
       "└──────────────────────────────────────┴─────────────────────────────┴─────────────────┘\n",
       "</pre>\n"
      ],
      "text/plain": [
       "┏━━━━━━━━━━━━━━━━━━━━━━━━━━━━━━━━━━━━━━┳━━━━━━━━━━━━━━━━━━━━━━━━━━━━━┳━━━━━━━━━━━━━━━━━┓\n",
       "┃\u001b[1m \u001b[0m\u001b[1mLayer (type)                        \u001b[0m\u001b[1m \u001b[0m┃\u001b[1m \u001b[0m\u001b[1mOutput Shape               \u001b[0m\u001b[1m \u001b[0m┃\u001b[1m \u001b[0m\u001b[1m        Param #\u001b[0m\u001b[1m \u001b[0m┃\n",
       "┡━━━━━━━━━━━━━━━━━━━━━━━━━━━━━━━━━━━━━━╇━━━━━━━━━━━━━━━━━━━━━━━━━━━━━╇━━━━━━━━━━━━━━━━━┩\n",
       "│ lstm (\u001b[38;5;33mLSTM\u001b[0m)                          │ (\u001b[38;5;45mNone\u001b[0m, \u001b[38;5;34m28\u001b[0m, \u001b[38;5;34m128\u001b[0m)             │          \u001b[38;5;34m80,384\u001b[0m │\n",
       "├──────────────────────────────────────┼─────────────────────────────┼─────────────────┤\n",
       "│ flatten (\u001b[38;5;33mFlatten\u001b[0m)                    │ (\u001b[38;5;45mNone\u001b[0m, \u001b[38;5;34m3584\u001b[0m)                │               \u001b[38;5;34m0\u001b[0m │\n",
       "├──────────────────────────────────────┼─────────────────────────────┼─────────────────┤\n",
       "│ dense (\u001b[38;5;33mDense\u001b[0m)                        │ (\u001b[38;5;45mNone\u001b[0m, \u001b[38;5;34m128\u001b[0m)                 │         \u001b[38;5;34m458,880\u001b[0m │\n",
       "├──────────────────────────────────────┼─────────────────────────────┼─────────────────┤\n",
       "│ dense_1 (\u001b[38;5;33mDense\u001b[0m)                      │ (\u001b[38;5;45mNone\u001b[0m, \u001b[38;5;34m26\u001b[0m)                  │           \u001b[38;5;34m3,354\u001b[0m │\n",
       "└──────────────────────────────────────┴─────────────────────────────┴─────────────────┘\n"
      ]
     },
     "metadata": {},
     "output_type": "display_data"
    },
    {
     "data": {
      "text/html": [
       "<pre style=\"white-space:pre;overflow-x:auto;line-height:normal;font-family:Menlo,'DejaVu Sans Mono',consolas,'Courier New',monospace\"><span style=\"font-weight: bold\"> Total params: </span><span style=\"color: #00af00; text-decoration-color: #00af00\">1,085,238</span> (4.14 MB)\n",
       "</pre>\n"
      ],
      "text/plain": [
       "\u001b[1m Total params: \u001b[0m\u001b[38;5;34m1,085,238\u001b[0m (4.14 MB)\n"
      ]
     },
     "metadata": {},
     "output_type": "display_data"
    },
    {
     "data": {
      "text/html": [
       "<pre style=\"white-space:pre;overflow-x:auto;line-height:normal;font-family:Menlo,'DejaVu Sans Mono',consolas,'Courier New',monospace\"><span style=\"font-weight: bold\"> Trainable params: </span><span style=\"color: #00af00; text-decoration-color: #00af00\">542,618</span> (2.07 MB)\n",
       "</pre>\n"
      ],
      "text/plain": [
       "\u001b[1m Trainable params: \u001b[0m\u001b[38;5;34m542,618\u001b[0m (2.07 MB)\n"
      ]
     },
     "metadata": {},
     "output_type": "display_data"
    },
    {
     "data": {
      "text/html": [
       "<pre style=\"white-space:pre;overflow-x:auto;line-height:normal;font-family:Menlo,'DejaVu Sans Mono',consolas,'Courier New',monospace\"><span style=\"font-weight: bold\"> Non-trainable params: </span><span style=\"color: #00af00; text-decoration-color: #00af00\">0</span> (0.00 B)\n",
       "</pre>\n"
      ],
      "text/plain": [
       "\u001b[1m Non-trainable params: \u001b[0m\u001b[38;5;34m0\u001b[0m (0.00 B)\n"
      ]
     },
     "metadata": {},
     "output_type": "display_data"
    },
    {
     "data": {
      "text/html": [
       "<pre style=\"white-space:pre;overflow-x:auto;line-height:normal;font-family:Menlo,'DejaVu Sans Mono',consolas,'Courier New',monospace\"><span style=\"font-weight: bold\"> Optimizer params: </span><span style=\"color: #00af00; text-decoration-color: #00af00\">542,620</span> (2.07 MB)\n",
       "</pre>\n"
      ],
      "text/plain": [
       "\u001b[1m Optimizer params: \u001b[0m\u001b[38;5;34m542,620\u001b[0m (2.07 MB)\n"
      ]
     },
     "metadata": {},
     "output_type": "display_data"
    }
   ],
   "source": [
    "from tensorflow.keras.saving import save_model\n",
    "save_model(model, 'Lstm_model.keras')\n",
    "\n",
    "from tensorflow.keras.models import load_model\n",
    "#Đường dẫn đến file mô hình đã lưu\n",
    "model_path = 'Lstm_model.keras'\n",
    "#Load mô hình từ file đã lưu\n",
    "loaded_model = load_model(model_path)\n",
    "#In thông tin cấu trúc của mô hình\n",
    "loaded_model.summary()"
   ]
  },
  {
   "cell_type": "code",
   "execution_count": 24,
   "id": "6d9b5796-8087-4ea4-b2a0-d62e802b5530",
   "metadata": {},
   "outputs": [
    {
     "name": "stdout",
     "output_type": "stream",
     "text": [
      "\u001b[1m1/1\u001b[0m \u001b[32m━━━━━━━━━━━━━━━━━━━━\u001b[0m\u001b[37m\u001b[0m \u001b[1m0s\u001b[0m 59ms/step\n",
      "Predicted character: H\n"
     ]
    }
   ],
   "source": [
    "#Hàm tiền xử lý ảnh đầu vào\n",
    "def resize_image(image_path, target_size=(28, 28)):\n",
    "    image = Image.open(image_path).convert('L')\n",
    "    ratio = min(target_size[0] / image.width, target_size[1] / image.height)\n",
    "    new_size = (int(image.width * ratio), int(image.height * ratio))\n",
    "    resized_image = image.resize(new_size, Image.LANCZOS)\n",
    "    new_image = Image.new('L', target_size, (255))\n",
    "    new_image.paste(resized_image, ((target_size[0] - new_size[0]) // 2, (target_size[1] - new_size[1]) // 2))\n",
    "    return new_image\n",
    "\n",
    "def preprocess_image(image_path):\n",
    "    image = resize_image(image_path)\n",
    "    image_array = np.array(image)\n",
    "    image_array = image_array / 255.0\n",
    "    image_array = np.expand_dims(image_array, axis=0)\n",
    "    image_array = image_array.reshape(1, 28, 28, 1)\n",
    "    return image_array\n",
    "\n",
    "# Hàm dự đoán ký tự từ ảnh\n",
    "def predict_character(model, image_path):\n",
    "    processed_image = preprocess_image(image_path)\n",
    "    predictions = model.predict(processed_image)\n",
    "    predicted_label = np.argmax(predictions, axis=1)\n",
    "    predicted_character = chr(predicted_label[0] + ord('A'))\n",
    "    return predicted_character\n",
    "    \n",
    "# Đường dẫn đến ảnh\n",
    "image_path = r'C:\\Users\\ADMIN\\Downloads\\A (1)\\ok h 2.png'  # Ensure path is correctly formatted\n",
    "predicted_character = predict_character(model, image_path)\n",
    "print(f'Predicted character: {predicted_character}')"
   ]
  },
  {
   "cell_type": "code",
   "execution_count": 25,
   "id": "798139ee-9246-4934-9325-096654e28b27",
   "metadata": {},
   "outputs": [
    {
     "data": {
      "image/png": "[encoded data removed]",
      "text/plain": [
       "<Figure size 640x480 with 1 Axes>"
      ]
     },
     "metadata": {},
     "output_type": "display_data"
    }
   ],
   "source": [
    "# Hiển thị ảnh và ký tự dự đoán\n",
    "image = Image.open(image_path).convert('L')\n",
    "plt.imshow(image, cmap='gray')\n",
    "plt.title(f'Ký tự dự đoán: {predicted_character}')\n",
    "plt.show()"
   ]
  },
  {
   "cell_type": "code",
   "execution_count": null,
   "id": "ece6ba8d-2c23-473f-89fe-bd164cc0b5cc",
   "metadata": {},
   "outputs": [],
   "source": []
  }
 ],
 "metadata": {
  "kernelspec": {
   "display_name": "Python 3 (ipykernel)",
   "language": "python",
   "name": "python3"
  },
  "language_info": {
   "codemirror_mode": {
    "name": "ipython",
    "version": 3
   },
   "file_extension": ".py",
   "mimetype": "text/x-python",
   "name": "python",
   "nbconvert_exporter": "python",
   "pygments_lexer": "ipython3",
   "version": "3.11.7"
  }
 },
 "nbformat": 4,
 "nbformat_minor": 5
}
