{
 "cells": [
  {
   "cell_type": "code",
   "execution_count": 12,
   "id": "b34c6b44-695e-4c99-be22-e7d8251fe692",
   "metadata": {},
   "outputs": [],
   "source": [
    "import numpy as np\n",
    "import pandas as pd\n",
    "from sklearn.model_selection import train_test_split\n",
    "from sklearn.metrics import classification_report, confusion_matrix\n",
    "from tensorflow.keras.models import Sequential\n",
    "from tensorflow.keras.layers import LSTM, Dense, Flatten, Input\n",
    "from tensorflow.keras.utils import to_categorical\n",
    "from tensorflow.keras.optimizers import Adam\n",
    "from PIL import Image\n",
    "import matplotlib.pyplot as plt"
   ]
  },
  {
   "cell_type": "code",
   "execution_count": 13,
   "id": "30292576-0a7e-419a-a6bc-c9ac93fef1d7",
   "metadata": {},
   "outputs": [],
   "source": [
    "# Đọc dữ liệu\n",
    "data = pd.read_csv('A_Z Handwritten Data.csv').astype('float32')"
   ]
  },
  {
   "cell_type": "code",
   "execution_count": 14,
   "id": "a5984d3a-2982-4d63-8a50-c82c609b71f2",
   "metadata": {},
   "outputs": [
    {
     "name": "stdout",
     "output_type": "stream",
     "text": [
      "     0  0.1  0.2  0.3  0.4  0.5  0.6  0.7  0.8  0.9  ...  0.639  0.640  0.641  \\\n",
      "0  0.0  0.0  0.0  0.0  0.0  0.0  0.0  0.0  0.0  0.0  ...    0.0    0.0    0.0   \n",
      "1  0.0  0.0  0.0  0.0  0.0  0.0  0.0  0.0  0.0  0.0  ...    0.0    0.0    0.0   \n",
      "2  0.0  0.0  0.0  0.0  0.0  0.0  0.0  0.0  0.0  0.0  ...    0.0    0.0    0.0   \n",
      "3  0.0  0.0  0.0  0.0  0.0  0.0  0.0  0.0  0.0  0.0  ...    0.0    0.0    0.0   \n",
      "4  0.0  0.0  0.0  0.0  0.0  0.0  0.0  0.0  0.0  0.0  ...    0.0    0.0    0.0   \n",
      "\n",
      "   0.642  0.643  0.644  0.645  0.646  0.647  0.648  \n",
      "0    0.0    0.0    0.0    0.0    0.0    0.0    0.0  \n",
      "1    0.0    0.0    0.0    0.0    0.0    0.0    0.0  \n",
      "2    0.0    0.0    0.0    0.0    0.0    0.0    0.0  \n",
      "3    0.0    0.0    0.0    0.0    0.0    0.0    0.0  \n",
      "4    0.0    0.0    0.0    0.0    0.0    0.0    0.0  \n",
      "\n",
      "[5 rows x 785 columns]\n",
      "(372450, 785)\n"
     ]
    }
   ],
   "source": [
    "# Kiểm tra dữ liệu\n",
    "print(data.head())\n",
    "print(data.shape)"
   ]
  },
  {
   "cell_type": "code",
   "execution_count": 15,
   "id": "28189aea-adef-48a1-8bec-cdcba6728dc2",
   "metadata": {},
   "outputs": [],
   "source": [
    "# Chuẩn bị dữ liệu\n",
    "X = data.drop('0', axis=1).values\n",
    "y = data['0'].values\n",
    "X = X.reshape(-1, 28, 28, 1)\n",
    "y = to_categorical(y, num_classes=26)"
   ]
  },
  {
   "cell_type": "code",
   "execution_count": 16,
   "id": "6bce894f-8747-4d2d-b414-8da1dd840747",
   "metadata": {},
   "outputs": [],
   "source": [
    "# Chia dữ liệu\n",
    "X_train, X_test, y_train, y_test = train_test_split(X, y, test_size=0.2, random_state=42)"
   ]
  },
  {
   "cell_type": "code",
   "execution_count": 17,
   "id": "6e89027a-cd69-43c1-8e22-43ecd733b97f",
   "metadata": {},
   "outputs": [],
   "source": [
    "# Xây dựng mô hình LSTM\n",
    "model = Sequential([\n",
    "    Input(shape=(28, 28)),\n",
    "    LSTM(128, return_sequences=True),\n",
    "    Flatten(),\n",
    "    Dense(128, activation='relu'),\n",
    "    Dense(26, activation='softmax')\n",
    "])"
   ]
  },
  {
   "cell_type": "code",
   "execution_count": 18,
   "id": "1fa4c21d-7005-4584-8f4f-2ac881fe7bd2",
   "metadata": {},
   "outputs": [
    {
     "name": "stdout",
     "output_type": "stream",
     "text": [
      "Epoch 1/10\n",
      "\u001b[1m4656/4656\u001b[0m \u001b[32m━━━━━━━━━━━━━━━━━━━━\u001b[0m\u001b[37m\u001b[0m \u001b[1m200s\u001b[0m 42ms/step - accuracy: 0.9110 - loss: 0.3102 - val_accuracy: 0.9635 - val_loss: 0.1252\n",
      "Epoch 2/10\n",
      "\u001b[1m4656/4656\u001b[0m \u001b[32m━━━━━━━━━━━━━━━━━━━━\u001b[0m\u001b[37m\u001b[0m \u001b[1m157s\u001b[0m 34ms/step - accuracy: 0.9692 - loss: 0.1034 - val_accuracy: 0.9698 - val_loss: 0.1058\n",
      "Epoch 3/10\n",
      "\u001b[1m4656/4656\u001b[0m \u001b[32m━━━━━━━━━━━━━━━━━━━━\u001b[0m\u001b[37m\u001b[0m \u001b[1m169s\u001b[0m 36ms/step - accuracy: 0.9752 - loss: 0.0810 - val_accuracy: 0.9729 - val_loss: 0.0952\n",
      "Epoch 4/10\n",
      "\u001b[1m4656/4656\u001b[0m \u001b[32m━━━━━━━━━━━━━━━━━━━━\u001b[0m\u001b[37m\u001b[0m \u001b[1m178s\u001b[0m 38ms/step - accuracy: 0.9787 - loss: 0.0686 - val_accuracy: 0.9770 - val_loss: 0.0797\n",
      "Epoch 5/10\n",
      "\u001b[1m4656/4656\u001b[0m \u001b[32m━━━━━━━━━━━━━━━━━━━━\u001b[0m\u001b[37m\u001b[0m \u001b[1m176s\u001b[0m 38ms/step - accuracy: 0.9825 - loss: 0.0555 - val_accuracy: 0.9794 - val_loss: 0.0729\n",
      "Epoch 6/10\n",
      "\u001b[1m4656/4656\u001b[0m \u001b[32m━━━━━━━━━━━━━━━━━━━━\u001b[0m\u001b[37m\u001b[0m \u001b[1m169s\u001b[0m 36ms/step - accuracy: 0.9838 - loss: 0.0499 - val_accuracy: 0.9795 - val_loss: 0.0735\n",
      "Epoch 7/10\n",
      "\u001b[1m4656/4656\u001b[0m \u001b[32m━━━━━━━━━━━━━━━━━━━━\u001b[0m\u001b[37m\u001b[0m \u001b[1m170s\u001b[0m 37ms/step - accuracy: 0.9849 - loss: 0.0471 - val_accuracy: 0.9809 - val_loss: 0.0727\n",
      "Epoch 8/10\n",
      "\u001b[1m4656/4656\u001b[0m \u001b[32m━━━━━━━━━━━━━━━━━━━━\u001b[0m\u001b[37m\u001b[0m \u001b[1m177s\u001b[0m 38ms/step - accuracy: 0.9873 - loss: 0.0393 - val_accuracy: 0.9799 - val_loss: 0.0758\n",
      "Epoch 9/10\n",
      "\u001b[1m4656/4656\u001b[0m \u001b[32m━━━━━━━━━━━━━━━━━━━━\u001b[0m\u001b[37m\u001b[0m \u001b[1m171s\u001b[0m 37ms/step - accuracy: 0.9869 - loss: 0.0395 - val_accuracy: 0.9823 - val_loss: 0.0676\n",
      "Epoch 10/10\n",
      "\u001b[1m4656/4656\u001b[0m \u001b[32m━━━━━━━━━━━━━━━━━━━━\u001b[0m\u001b[37m\u001b[0m \u001b[1m187s\u001b[0m 40ms/step - accuracy: 0.9893 - loss: 0.0336 - val_accuracy: 0.9841 - val_loss: 0.0641\n"
     ]
    }
   ],
   "source": [
    "\n",
    "model.compile(optimizer=Adam(learning_rate=0.001), loss='categorical_crossentropy', metrics=['accuracy'])\n",
    "\n",
    "# Huấn luyện mô hình\n",
    "history = model.fit(X_train, y_train, epochs=10, batch_size=64, validation_data=(X_test, y_test))"
   ]
  },
  {
   "cell_type": "code",
   "execution_count": 19,
   "id": "845a7396-4d8e-4e4e-a889-e05a85029ae0",
   "metadata": {},
   "outputs": [
    {
     "name": "stderr",
     "output_type": "stream",
     "text": [
      "WARNING:absl:You are saving your model as an HDF5 file via `model.save()` or `keras.saving.save_model(model)`. This file format is considered legacy. We recommend using instead the native Keras format, e.g. `model.save('my_model.keras')` or `keras.saving.save_model(model, 'my_model.keras')`. \n"
     ]
    }
   ],
   "source": [
    "# Lưu mô hình\n",
    "model.save('/mnt/data/handwritten_character_recognition_lstm.h5')"
   ]
  },
  {
   "cell_type": "code",
   "execution_count": 20,
   "id": "d8b07142-3982-41c3-bf65-5e2ee3aac113",
   "metadata": {},
   "outputs": [
    {
     "name": "stdout",
     "output_type": "stream",
     "text": [
      "\u001b[1m2328/2328\u001b[0m \u001b[32m━━━━━━━━━━━━━━━━━━━━\u001b[0m\u001b[37m\u001b[0m \u001b[1m12s\u001b[0m 5ms/step - accuracy: 0.9845 - loss: 0.0633\n",
      "Loss trên tập kiểm tra: 0.06406921148300171\n",
      "Độ chính xác trên tập kiểm tra: 0.9840918183326721\n"
     ]
    }
   ],
   "source": [
    "# Đánh giá mô hình\n",
    "loss, accuracy = model.evaluate(X_test, y_test)\n",
    "print(f\"Loss trên tập kiểm tra: {loss}\")\n",
    "print(f\"Độ chính xác trên tập kiểm tra: {accuracy}\")"
   ]
  },
  {
   "cell_type": "code",
   "execution_count": 21,
   "id": "cfb0a98b-82e6-4b73-b8b7-6dbeebdabc9e",
   "metadata": {},
   "outputs": [
    {
     "name": "stdout",
     "output_type": "stream",
     "text": [
      "\u001b[1m2328/2328\u001b[0m \u001b[32m━━━━━━━━━━━━━━━━━━━━\u001b[0m\u001b[37m\u001b[0m \u001b[1m13s\u001b[0m 5ms/step\n"
     ]
    }
   ],
   "source": [
    "# Dự đoán trên tập kiểm tra\n",
    "y_pred = model.predict(X_test)\n",
    "y_pred_classes = np.argmax(y_pred, axis=1)\n",
    "y_true = np.argmax(y_test, axis=1)"
   ]
  },
  {
   "cell_type": "code",
   "execution_count": 22,
   "id": "83e693c5-cbd2-4f19-89ad-3bf9558519b9",
   "metadata": {},
   "outputs": [
    {
     "name": "stdout",
     "output_type": "stream",
     "text": [
      "\n",
      "Classification Report:\n",
      "\n",
      "              precision    recall  f1-score   support\n",
      "\n",
      "           A       0.98      0.99      0.98      2806\n",
      "           B       0.98      0.97      0.98      1673\n",
      "           C       0.98      0.99      0.99      4742\n",
      "           D       0.97      0.93      0.95      2044\n",
      "           E       0.98      0.97      0.98      2214\n",
      "           F       1.00      0.91      0.95       231\n",
      "           G       0.96      0.97      0.96      1183\n",
      "           H       0.96      0.96      0.96      1466\n",
      "           I       0.94      0.98      0.96       237\n",
      "           J       0.97      0.98      0.97      1668\n",
      "           K       0.98      0.96      0.97      1132\n",
      "           L       0.99      0.98      0.98      2319\n",
      "           M       0.98      0.98      0.98      2487\n",
      "           N       0.98      0.98      0.98      3756\n",
      "           O       0.99      0.99      0.99     11629\n",
      "           P       0.99      0.99      0.99      3868\n",
      "           Q       0.97      0.98      0.97      1159\n",
      "           R       0.99      0.97      0.98      2296\n",
      "           S       1.00      0.99      0.99      9556\n",
      "           T       0.99      0.99      0.99      4447\n",
      "           U       0.99      0.99      0.99      5860\n",
      "           V       1.00      0.99      0.99       823\n",
      "           W       0.99      0.97      0.98      2198\n",
      "           X       0.98      0.98      0.98      1269\n",
      "           Y       0.98      0.97      0.98      2202\n",
      "           Z       0.99      0.99      0.99      1225\n",
      "\n",
      "    accuracy                           0.98     74490\n",
      "   macro avg       0.98      0.98      0.98     74490\n",
      "weighted avg       0.98      0.98      0.98     74490\n",
      "\n"
     ]
    }
   ],
   "source": [
    "# Báo cáo đánh giá\n",
    "print(\"\\nClassification Report:\\n\")\n",
    "print(classification_report(y_true, y_pred_classes, target_names=[chr(i + ord('A')) for i in range(26)]))"
   ]
  },
  {
   "cell_type": "code",
   "execution_count": 23,
   "id": "e2297630-6406-4ae2-b5ea-968579c78aa3",
   "metadata": {},
   "outputs": [
    {
     "name": "stdout",
     "output_type": "stream",
     "text": [
      "\n",
      "Confusion Matrix:\n",
      "\n",
      "[[ 2776     1     0     0     0     0     0    10     0     0     1     1\n",
      "      4     1     1     2     3     4     0     0     1     0     1     0\n",
      "      0     0]\n",
      " [    5  1623     1     4     1     0    12     0     0     2     0     0\n",
      "      0     0    12     1     0     3     7     0     0     0     1     0\n",
      "      0     1]\n",
      " [    0     1  4718     0     3     0     2     0     0     0     0     5\n",
      "      0     0     5     0     0     3     0     0     3     0     0     0\n",
      "      0     2]\n",
      " [    1    10     0  1896     0     0     0     0     0     4     0     0\n",
      "      0     1   114    13     1     0     0     1     2     0     1     0\n",
      "      0     0]\n",
      " [    0     1    16     1  2153     0    11     0     1     0     0     5\n",
      "      0     0     2     2     0     1    15     1     0     0     0     0\n",
      "      0     5]\n",
      " [    0     0     0     0     5   211     1     0     0     0     0     0\n",
      "      0     0     0    11     0     0     2     1     0     0     0     0\n",
      "      0     0]\n",
      " [    0     1    17     0     2     0  1148     0     0     1     0     0\n",
      "      0     1     2     0     7     0     2     1     1     0     0     0\n",
      "      0     0]\n",
      " [    6     1     1     0     0     0     0  1405     0     0     1     0\n",
      "     13    28     0     0     0     0     0     0     5     0     2     2\n",
      "      0     2]\n",
      " [    0     0     0     0     0     0     0     0   232     4     0     0\n",
      "      0     0     0     0     0     0     0     0     0     0     0     1\n",
      "      0     0]\n",
      " [    0     0     0     2     0     0     0     0     9  1627     0     1\n",
      "      0     1     1     0     0     0    13     8     5     0     0     0\n",
      "      1     0]\n",
      " [    2     0     3     0     5     0     0     2     0     0  1085     3\n",
      "      3     7     0     0     0     7     0     0     3     0     0    11\n",
      "      1     0]\n",
      " [    0     0    27     0     1     0     3     0     0     2     3  2272\n",
      "      0     0     0     0     0     1     0     2     0     0     0     4\n",
      "      0     4]\n",
      " [   10     0     0     0     2     0     0     8     0     0     2     1\n",
      "   2444     9     0     0     1     0     0     1     3     0     4     0\n",
      "      2     0]\n",
      " [    4     0     0     1     0     0     0    18     0     0     1     1\n",
      "     11  3693     0     0     3     2     0     3     3     0    14     0\n",
      "      2     0]\n",
      " [    1     1    18    33     0     1     5     0     1     1     0     2\n",
      "      3     0 11539     1    13     0     0     0    10     0     0     0\n",
      "      0     0]\n",
      " [    0     2     2    16     1     0     1     2     0     0     0     0\n",
      "      1     2     2  3826     3     2     3     0     0     0     0     0\n",
      "      5     0]\n",
      " [    0     0     0     0     0     0     4     0     0     0     0     0\n",
      "      0     0    11     1  1138     3     0     0     1     0     1     0\n",
      "      0     0]\n",
      " [   30     6    10     0     2     0     0     0     0     0     3     0\n",
      "      2     0     0     2     6  2232     0     0     0     0     0     2\n",
      "      0     1]\n",
      " [    0     2     5     0     3     0    10     0     0    21     0     1\n",
      "      0     0     2     0     0     0  9507     1     1     0     0     0\n",
      "      3     0]\n",
      " [    0     0     3     0     2     0     0     0     3     4     1     0\n",
      "      0     0     0    12     1     0     1  4413     0     0     0     0\n",
      "      6     1]\n",
      " [    0     0     6     0     2     0     1     1     0     1     0     1\n",
      "      5     2     7     0     1     0     3     0  5825     1     3     0\n",
      "      1     0]\n",
      " [    0     0     0     0     0     0     0     0     0     0     1     0\n",
      "      0     0     1     1     0     0     0     0     3   812     0     0\n",
      "      5     0]\n",
      " [    3     0     0     0     1     0     1     4     0     0     1     0\n",
      "      1    37     0     0     0     0     0     1    17     1  2129     0\n",
      "      2     0]\n",
      " [    0     0     0     0     0     0     0     0     0     0     9     1\n",
      "      0     0     0     0     0     0     0     2     1     0     2  1241\n",
      "     12     1]\n",
      " [    0     0     2     0     2     0     0     6     0     8     1     0\n",
      "      0     2     0     7     0     0     0    15     5     1     0     7\n",
      "   2146     0]\n",
      " [    0     0     1     0     4     0     0     0     1     0     0     2\n",
      "      0     0     0     0     0     0     1     2     0     0     0     0\n",
      "      0  1214]]\n"
     ]
    }
   ],
   "source": [
    "# Ma trận nhầm lẫn\n",
    "print(\"\\nConfusion Matrix:\\n\")\n",
    "print(confusion_matrix(y_true, y_pred_classes))"
   ]
  },
  {
   "cell_type": "code",
   "execution_count": 24,
   "id": "c63bda89-2c5d-4bff-83ca-f59f808e6f89",
   "metadata": {},
   "outputs": [
    {
     "name": "stderr",
     "output_type": "stream",
     "text": [
      "C:\\Users\\ADMIN\\anaconda3\\Lib\\site-packages\\keras\\src\\saving\\saving_lib.py:415: UserWarning: Skipping variable loading for optimizer 'rmsprop', because it has 9 variables whereas the saved optimizer has 16 variables. \n",
      "  saveable.load_own_variables(weights_store.get(inner_path))\n"
     ]
    },
    {
     "data": {
      "text/html": [
       "<pre style=\"white-space:pre;overflow-x:auto;line-height:normal;font-family:Menlo,'DejaVu Sans Mono',consolas,'Courier New',monospace\"><span style=\"font-weight: bold\">Model: \"sequential_1\"</span>\n",
       "</pre>\n"
      ],
      "text/plain": [
       "\u001b[1mModel: \"sequential_1\"\u001b[0m\n"
      ]
     },
     "metadata": {},
     "output_type": "display_data"
    },
    {
     "data": {
      "text/html": [
       "<pre style=\"white-space:pre;overflow-x:auto;line-height:normal;font-family:Menlo,'DejaVu Sans Mono',consolas,'Courier New',monospace\">┏━━━━━━━━━━━━━━━━━━━━━━━━━━━━━━━━━━━━━━┳━━━━━━━━━━━━━━━━━━━━━━━━━━━━━┳━━━━━━━━━━━━━━━━━┓\n",
       "┃<span style=\"font-weight: bold\"> Layer (type)                         </span>┃<span style=\"font-weight: bold\"> Output Shape                </span>┃<span style=\"font-weight: bold\">         Param # </span>┃\n",
       "┡━━━━━━━━━━━━━━━━━━━━━━━━━━━━━━━━━━━━━━╇━━━━━━━━━━━━━━━━━━━━━━━━━━━━━╇━━━━━━━━━━━━━━━━━┩\n",
       "│ lstm_1 (<span style=\"color: #0087ff; text-decoration-color: #0087ff\">LSTM</span>)                        │ (<span style=\"color: #00d7ff; text-decoration-color: #00d7ff\">None</span>, <span style=\"color: #00af00; text-decoration-color: #00af00\">28</span>, <span style=\"color: #00af00; text-decoration-color: #00af00\">128</span>)             │          <span style=\"color: #00af00; text-decoration-color: #00af00\">80,384</span> │\n",
       "├──────────────────────────────────────┼─────────────────────────────┼─────────────────┤\n",
       "│ flatten_1 (<span style=\"color: #0087ff; text-decoration-color: #0087ff\">Flatten</span>)                  │ (<span style=\"color: #00d7ff; text-decoration-color: #00d7ff\">None</span>, <span style=\"color: #00af00; text-decoration-color: #00af00\">3584</span>)                │               <span style=\"color: #00af00; text-decoration-color: #00af00\">0</span> │\n",
       "├──────────────────────────────────────┼─────────────────────────────┼─────────────────┤\n",
       "│ dense_2 (<span style=\"color: #0087ff; text-decoration-color: #0087ff\">Dense</span>)                      │ (<span style=\"color: #00d7ff; text-decoration-color: #00d7ff\">None</span>, <span style=\"color: #00af00; text-decoration-color: #00af00\">128</span>)                 │         <span style=\"color: #00af00; text-decoration-color: #00af00\">458,880</span> │\n",
       "├──────────────────────────────────────┼─────────────────────────────┼─────────────────┤\n",
       "│ dense_3 (<span style=\"color: #0087ff; text-decoration-color: #0087ff\">Dense</span>)                      │ (<span style=\"color: #00d7ff; text-decoration-color: #00d7ff\">None</span>, <span style=\"color: #00af00; text-decoration-color: #00af00\">26</span>)                  │           <span style=\"color: #00af00; text-decoration-color: #00af00\">3,354</span> │\n",
       "└──────────────────────────────────────┴─────────────────────────────┴─────────────────┘\n",
       "</pre>\n"
      ],
      "text/plain": [
       "┏━━━━━━━━━━━━━━━━━━━━━━━━━━━━━━━━━━━━━━┳━━━━━━━━━━━━━━━━━━━━━━━━━━━━━┳━━━━━━━━━━━━━━━━━┓\n",
       "┃\u001b[1m \u001b[0m\u001b[1mLayer (type)                        \u001b[0m\u001b[1m \u001b[0m┃\u001b[1m \u001b[0m\u001b[1mOutput Shape               \u001b[0m\u001b[1m \u001b[0m┃\u001b[1m \u001b[0m\u001b[1m        Param #\u001b[0m\u001b[1m \u001b[0m┃\n",
       "┡━━━━━━━━━━━━━━━━━━━━━━━━━━━━━━━━━━━━━━╇━━━━━━━━━━━━━━━━━━━━━━━━━━━━━╇━━━━━━━━━━━━━━━━━┩\n",
       "│ lstm_1 (\u001b[38;5;33mLSTM\u001b[0m)                        │ (\u001b[38;5;45mNone\u001b[0m, \u001b[38;5;34m28\u001b[0m, \u001b[38;5;34m128\u001b[0m)             │          \u001b[38;5;34m80,384\u001b[0m │\n",
       "├──────────────────────────────────────┼─────────────────────────────┼─────────────────┤\n",
       "│ flatten_1 (\u001b[38;5;33mFlatten\u001b[0m)                  │ (\u001b[38;5;45mNone\u001b[0m, \u001b[38;5;34m3584\u001b[0m)                │               \u001b[38;5;34m0\u001b[0m │\n",
       "├──────────────────────────────────────┼─────────────────────────────┼─────────────────┤\n",
       "│ dense_2 (\u001b[38;5;33mDense\u001b[0m)                      │ (\u001b[38;5;45mNone\u001b[0m, \u001b[38;5;34m128\u001b[0m)                 │         \u001b[38;5;34m458,880\u001b[0m │\n",
       "├──────────────────────────────────────┼─────────────────────────────┼─────────────────┤\n",
       "│ dense_3 (\u001b[38;5;33mDense\u001b[0m)                      │ (\u001b[38;5;45mNone\u001b[0m, \u001b[38;5;34m26\u001b[0m)                  │           \u001b[38;5;34m3,354\u001b[0m │\n",
       "└──────────────────────────────────────┴─────────────────────────────┴─────────────────┘\n"
      ]
     },
     "metadata": {},
     "output_type": "display_data"
    },
    {
     "data": {
      "text/html": [
       "<pre style=\"white-space:pre;overflow-x:auto;line-height:normal;font-family:Menlo,'DejaVu Sans Mono',consolas,'Courier New',monospace\"><span style=\"font-weight: bold\"> Total params: </span><span style=\"color: #00af00; text-decoration-color: #00af00\">1,085,238</span> (4.14 MB)\n",
       "</pre>\n"
      ],
      "text/plain": [
       "\u001b[1m Total params: \u001b[0m\u001b[38;5;34m1,085,238\u001b[0m (4.14 MB)\n"
      ]
     },
     "metadata": {},
     "output_type": "display_data"
    },
    {
     "data": {
      "text/html": [
       "<pre style=\"white-space:pre;overflow-x:auto;line-height:normal;font-family:Menlo,'DejaVu Sans Mono',consolas,'Courier New',monospace\"><span style=\"font-weight: bold\"> Trainable params: </span><span style=\"color: #00af00; text-decoration-color: #00af00\">542,618</span> (2.07 MB)\n",
       "</pre>\n"
      ],
      "text/plain": [
       "\u001b[1m Trainable params: \u001b[0m\u001b[38;5;34m542,618\u001b[0m (2.07 MB)\n"
      ]
     },
     "metadata": {},
     "output_type": "display_data"
    },
    {
     "data": {
      "text/html": [
       "<pre style=\"white-space:pre;overflow-x:auto;line-height:normal;font-family:Menlo,'DejaVu Sans Mono',consolas,'Courier New',monospace\"><span style=\"font-weight: bold\"> Non-trainable params: </span><span style=\"color: #00af00; text-decoration-color: #00af00\">0</span> (0.00 B)\n",
       "</pre>\n"
      ],
      "text/plain": [
       "\u001b[1m Non-trainable params: \u001b[0m\u001b[38;5;34m0\u001b[0m (0.00 B)\n"
      ]
     },
     "metadata": {},
     "output_type": "display_data"
    },
    {
     "data": {
      "text/html": [
       "<pre style=\"white-space:pre;overflow-x:auto;line-height:normal;font-family:Menlo,'DejaVu Sans Mono',consolas,'Courier New',monospace\"><span style=\"font-weight: bold\"> Optimizer params: </span><span style=\"color: #00af00; text-decoration-color: #00af00\">542,620</span> (2.07 MB)\n",
       "</pre>\n"
      ],
      "text/plain": [
       "\u001b[1m Optimizer params: \u001b[0m\u001b[38;5;34m542,620\u001b[0m (2.07 MB)\n"
      ]
     },
     "metadata": {},
     "output_type": "display_data"
    }
   ],
   "source": [
    "from tensorflow.keras.saving import save_model\n",
    "save_model(model, 'Lstm_model.keras')\n",
    "\n",
    "from tensorflow.keras.models import load_model\n",
    "#Đường dẫn đến file mô hình đã lưu\n",
    "model_path = 'Lstm_model.keras'\n",
    "#Load mô hình từ file đã lưu\n",
    "loaded_model = load_model(model_path)\n",
    "#In thông tin cấu trúc của mô hình\n",
    "loaded_model.summary()"
   ]
  },
  {
   "cell_type": "code",
   "execution_count": 113,
   "id": "abd5142a-dae8-4994-80e1-afadc1937779",
   "metadata": {},
   "outputs": [
    {
     "name": "stdout",
     "output_type": "stream",
     "text": [
      "\u001b[1m1/1\u001b[0m \u001b[32m━━━━━━━━━━━━━━━━━━━━\u001b[0m\u001b[37m\u001b[0m \u001b[1m0s\u001b[0m 32ms/step\n",
      "Predicted character: N\n"
     ]
    }
   ],
   "source": [
    "#Hàm tiền xử lý ảnh đầu vào\n",
    "def resize_image(image_path, target_size=(28, 28)):\n",
    "    image = Image.open(image_path).convert('L')\n",
    "    ratio = min(target_size[0] / image.width, target_size[1] / image.height)\n",
    "    new_size = (int(image.width * ratio), int(image.height * ratio))\n",
    "    resized_image = image.resize(new_size, Image.LANCZOS)\n",
    "    new_image = Image.new('L', target_size, (255))\n",
    "    new_image.paste(resized_image, ((target_size[0] - new_size[0]) // 2, (target_size[1] - new_size[1]) // 2))\n",
    "    return new_image\n",
    "\n",
    "def preprocess_image(image_path):\n",
    "    image = resize_image(image_path)\n",
    "    image_array = np.array(image)\n",
    "    image_array = image_array / 255.0\n",
    "    image_array = np.expand_dims(image_array, axis=0)\n",
    "    image_array = image_array.reshape(1, 28, 28, 1)\n",
    "    return image_array\n",
    "\n",
    "# Hàm dự đoán ký tự từ ảnh\n",
    "def predict_character(model, image_path):\n",
    "    processed_image = preprocess_image(image_path)\n",
    "    predictions = model.predict(processed_image)\n",
    "    predicted_label = np.argmax(predictions, axis=1)\n",
    "    predicted_character = chr(predicted_label[0] + ord('A'))\n",
    "    return predicted_character\n",
    "    \n",
    "# Đường dẫn đến ảnh\n",
    "image_path = r'C:\\Users\\ADMIN\\Downloads\\Nhóm 15_AI\\N.png'  # Ensure path is correctly formatted\n",
    "predicted_character = predict_character(model, image_path)\n",
    "print(f'Predicted character: {predicted_character}')"
   ]
  },
  {
   "cell_type": "code",
   "execution_count": 114,
   "id": "f36a2f01-d859-410f-bb37-2aa4730963d0",
   "metadata": {},
   "outputs": [
    {
     "data": {
      "image/png": "[encoded data removed]",
      "text/plain": [
       "<Figure size 640x480 with 1 Axes>"
      ]
     },
     "metadata": {},
     "output_type": "display_data"
    }
   ],
   "source": [
    "# Hiển thị ảnh và ký tự dự đoán\n",
    "image = Image.open(image_path).convert('L')\n",
    "plt.imshow(image, cmap='gray')\n",
    "plt.title(f'Ký tự dự đoán: {predicted_character}')\n",
    "plt.show()"
   ]
  },
  {
   "cell_type": "code",
   "execution_count": null,
   "id": "ca833557-3dff-47ea-bf23-2334923e8e58",
   "metadata": {},
   "outputs": [],
   "source": []
  }
 ],
 "metadata": {
  "kernelspec": {
   "display_name": "Python 3 (ipykernel)",
   "language": "python",
   "name": "python3"
  },
  "language_info": {
   "codemirror_mode": {
    "name": "ipython",
    "version": 3
   },
   "file_extension": ".py",
   "mimetype": "text/x-python",
   "name": "python",
   "nbconvert_exporter": "python",
   "pygments_lexer": "ipython3",
   "version": "3.11.7"
  }
 },
 "nbformat": 4,
 "nbformat_minor": 5
}
