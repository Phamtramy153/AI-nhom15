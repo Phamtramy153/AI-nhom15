{
 "cells": [
  {
   "cell_type": "code",
   "execution_count": 25,
   "id": "01b97024-6605-4b47-b1dd-9526d498cb3b",
   "metadata": {},
   "outputs": [],
   "source": [
    "import pandas as pd\n",
    "import numpy as np\n",
    "import matplotlib.pyplot as plt\n",
    "from sklearn.model_selection import train_test_split\n",
    "from keras.utils import to_categorical\n",
    "from keras.models import Sequential\n",
    "from keras.layers import LSTM, Dense, Flatten, Dropout, Reshape, Input\n",
    "from keras.optimizers import Adam"
   ]
  },
  {
   "cell_type": "code",
   "execution_count": 26,
   "id": "51ca0b39-37d3-4d50-b56d-80176d955338",
   "metadata": {},
   "outputs": [],
   "source": [
    "# Đọc dữ liệu từ tệp CSV\n",
    "file_path = 'A_Z Handwritten Data.csv'\n",
    "data = pd.read_csv(file_path)"
   ]
  },
  {
   "cell_type": "code",
   "execution_count": 27,
   "id": "009932db-2af2-4f51-a31c-f497213cb73a",
   "metadata": {},
   "outputs": [
    {
     "name": "stdout",
     "output_type": "stream",
     "text": [
      "Thông tin cơ bản về dữ liệu:\n",
      "<class 'pandas.core.frame.DataFrame'>\n",
      "RangeIndex: 372450 entries, 0 to 372449\n",
      "Columns: 785 entries, 0 to 0.648\n",
      "dtypes: int64(785)\n",
      "memory usage: 2.2 GB\n",
      "None\n"
     ]
    }
   ],
   "source": [
    "# Hiển thị thông tin cơ bản về dữ liệu\n",
    "print(\"Thông tin cơ bản về dữ liệu:\")\n",
    "print(data.info())"
   ]
  },
  {
   "cell_type": "code",
   "execution_count": 28,
   "id": "764599ac-af53-4f3e-8e03-b6016e308e1f",
   "metadata": {},
   "outputs": [
    {
     "name": "stdout",
     "output_type": "stream",
     "text": [
      "\n",
      "5 hàng đầu tiên của dữ liệu:\n",
      "   0  0.1  0.2  0.3  0.4  0.5  0.6  0.7  0.8  0.9  ...  0.639  0.640  0.641  \\\n",
      "0  0    0    0    0    0    0    0    0    0    0  ...      0      0      0   \n",
      "1  0    0    0    0    0    0    0    0    0    0  ...      0      0      0   \n",
      "2  0    0    0    0    0    0    0    0    0    0  ...      0      0      0   \n",
      "3  0    0    0    0    0    0    0    0    0    0  ...      0      0      0   \n",
      "4  0    0    0    0    0    0    0    0    0    0  ...      0      0      0   \n",
      "\n",
      "   0.642  0.643  0.644  0.645  0.646  0.647  0.648  \n",
      "0      0      0      0      0      0      0      0  \n",
      "1      0      0      0      0      0      0      0  \n",
      "2      0      0      0      0      0      0      0  \n",
      "3      0      0      0      0      0      0      0  \n",
      "4      0      0      0      0      0      0      0  \n",
      "\n",
      "[5 rows x 785 columns]\n"
     ]
    }
   ],
   "source": [
    "# Hiển thị 5 hàng đầu tiên của dữ liệu\n",
    "print(\"\\n5 hàng đầu tiên của dữ liệu:\")\n",
    "print(data.head())"
   ]
  },
  {
   "cell_type": "code",
   "execution_count": 29,
   "id": "bd1a82b2-978d-4b9e-a602-674d61b111f9",
   "metadata": {},
   "outputs": [
    {
     "name": "stdout",
     "output_type": "stream",
     "text": [
      "\n",
      "Số lượng các mẫu dữ liệu cho từng lớp (class):\n",
      "0\n",
      "14    57825\n",
      "18    48419\n",
      "20    29008\n",
      "2     23409\n",
      "19    22495\n",
      "15    19341\n",
      "13    19010\n",
      "0     13869\n",
      "12    12336\n",
      "11    11586\n",
      "17    11566\n",
      "4     11440\n",
      "24    10859\n",
      "22    10784\n",
      "3     10134\n",
      "1      8668\n",
      "9      8493\n",
      "7      7218\n",
      "23     6272\n",
      "25     6076\n",
      "16     5812\n",
      "6      5762\n",
      "10     5603\n",
      "21     4182\n",
      "5      1163\n",
      "8      1120\n",
      "Name: count, dtype: int64\n"
     ]
    }
   ],
   "source": [
    "# Kiểm tra các class và số lượng tương ứng\n",
    "print(\"\\nSố lượng các mẫu dữ liệu cho từng lớp (class):\")\n",
    "print(data['0'].value_counts())"
   ]
  },
  {
   "cell_type": "code",
   "execution_count": 30,
   "id": "014f3167-f616-4cd3-b63d-edf5eb62e946",
   "metadata": {},
   "outputs": [],
   "source": [
    "# Tách nhãn (label) và dữ liệu hình ảnh (features)\n",
    "X = data.drop(columns='0').values\n",
    "y = data['0'].values"
   ]
  },
  {
   "cell_type": "code",
   "execution_count": 31,
   "id": "f8d5de3e-8d08-4f31-97a2-8512f27791bf",
   "metadata": {},
   "outputs": [],
   "source": [
    "# Chia dữ liệu thành tập huấn luyện và tập kiểm tra\n",
    "X_train, X_test, y_train, y_test = train_test_split(X, y, test_size=0.2, random_state=42)"
   ]
  },
  {
   "cell_type": "code",
   "execution_count": 32,
   "id": "be6588b0-5cec-4e7d-8653-9761d4c425ec",
   "metadata": {},
   "outputs": [],
   "source": [
    "# Định hình lại dữ liệu để phù hợp với mô hình LSTM\n",
    "X_train = X_train.reshape(X_train.shape[0], 28, 28)\n",
    "X_test = X_test.reshape(X_test.shape[0], 28, 28)"
   ]
  },
  {
   "cell_type": "code",
   "execution_count": 33,
   "id": "2a9a201a-a582-4b77-9dcb-488f62d6ec2f",
   "metadata": {},
   "outputs": [],
   "source": [
    "# Chuyển đổi nhãn thành dạng one-hot\n",
    "y_train = to_categorical(y_train, num_classes=26)\n",
    "y_test = to_categorical(y_test, num_classes=26)"
   ]
  },
  {
   "cell_type": "code",
   "execution_count": 34,
   "id": "76cd20c9-24d6-4fa2-a782-ff8393ed1e8e",
   "metadata": {},
   "outputs": [],
   "source": [
    "# Xây dựng mô hình LSTM\n",
    "model = Sequential()\n",
    "model.add(Input(shape=(28, 28)))  # Sử dụng lớp Input\n",
    "model.add(LSTM(128, return_sequences=True))\n",
    "model.add(Flatten())\n",
    "model.add(Dense(128, activation='relu'))\n",
    "model.add(Dense(26, activation='softmax'))"
   ]
  },
  {
   "cell_type": "code",
   "execution_count": 35,
   "id": "4e59acaa-d222-4d0e-a324-bf4027399bb7",
   "metadata": {},
   "outputs": [],
   "source": [
    "# Biên dịch mô hình\n",
    "model.compile(loss='categorical_crossentropy', optimizer=Adam(), metrics=['accuracy'])\n"
   ]
  },
  {
   "cell_type": "code",
   "execution_count": 36,
   "id": "8d758345-dbfa-458c-a482-96659796be6c",
   "metadata": {},
   "outputs": [
    {
     "name": "stdout",
     "output_type": "stream",
     "text": [
      "Epoch 1/10\n",
      "\u001b[1m4656/4656\u001b[0m \u001b[32m━━━━━━━━━━━━━━━━━━━━\u001b[0m\u001b[37m\u001b[0m \u001b[1m174s\u001b[0m 36ms/step - accuracy: 0.9092 - loss: 0.3134 - val_accuracy: 0.9652 - val_loss: 0.1185\n",
      "Epoch 2/10\n",
      "\u001b[1m4656/4656\u001b[0m \u001b[32m━━━━━━━━━━━━━━━━━━━━\u001b[0m\u001b[37m\u001b[0m \u001b[1m164s\u001b[0m 35ms/step - accuracy: 0.9689 - loss: 0.1026 - val_accuracy: 0.9732 - val_loss: 0.0915\n",
      "Epoch 3/10\n",
      "\u001b[1m4656/4656\u001b[0m \u001b[32m━━━━━━━━━━━━━━━━━━━━\u001b[0m\u001b[37m\u001b[0m \u001b[1m176s\u001b[0m 38ms/step - accuracy: 0.9763 - loss: 0.0764 - val_accuracy: 0.9750 - val_loss: 0.0860\n",
      "Epoch 4/10\n",
      "\u001b[1m4656/4656\u001b[0m \u001b[32m━━━━━━━━━━━━━━━━━━━━\u001b[0m\u001b[37m\u001b[0m \u001b[1m160s\u001b[0m 34ms/step - accuracy: 0.9796 - loss: 0.0629 - val_accuracy: 0.9742 - val_loss: 0.0873\n",
      "Epoch 5/10\n",
      "\u001b[1m4656/4656\u001b[0m \u001b[32m━━━━━━━━━━━━━━━━━━━━\u001b[0m\u001b[37m\u001b[0m \u001b[1m161s\u001b[0m 35ms/step - accuracy: 0.9817 - loss: 0.0580 - val_accuracy: 0.9787 - val_loss: 0.0767\n",
      "Epoch 6/10\n",
      "\u001b[1m4656/4656\u001b[0m \u001b[32m━━━━━━━━━━━━━━━━━━━━\u001b[0m\u001b[37m\u001b[0m \u001b[1m181s\u001b[0m 39ms/step - accuracy: 0.9845 - loss: 0.0484 - val_accuracy: 0.9796 - val_loss: 0.0759\n",
      "Epoch 7/10\n",
      "\u001b[1m4656/4656\u001b[0m \u001b[32m━━━━━━━━━━━━━━━━━━━━\u001b[0m\u001b[37m\u001b[0m \u001b[1m162s\u001b[0m 35ms/step - accuracy: 0.9846 - loss: 0.0488 - val_accuracy: 0.9795 - val_loss: 0.0723\n",
      "Epoch 8/10\n",
      "\u001b[1m4656/4656\u001b[0m \u001b[32m━━━━━━━━━━━━━━━━━━━━\u001b[0m\u001b[37m\u001b[0m \u001b[1m167s\u001b[0m 36ms/step - accuracy: 0.9865 - loss: 0.0423 - val_accuracy: 0.9796 - val_loss: 0.0751\n",
      "Epoch 9/10\n",
      "\u001b[1m4656/4656\u001b[0m \u001b[32m━━━━━━━━━━━━━━━━━━━━\u001b[0m\u001b[37m\u001b[0m \u001b[1m176s\u001b[0m 38ms/step - accuracy: 0.9879 - loss: 0.0378 - val_accuracy: 0.9834 - val_loss: 0.0632\n",
      "Epoch 10/10\n",
      "\u001b[1m4656/4656\u001b[0m \u001b[32m━━━━━━━━━━━━━━━━━━━━\u001b[0m\u001b[37m\u001b[0m \u001b[1m161s\u001b[0m 35ms/step - accuracy: 0.9899 - loss: 0.0317 - val_accuracy: 0.9831 - val_loss: 0.0700\n"
     ]
    },
    {
     "data": {
      "text/plain": [
       "<keras.src.callbacks.history.History at 0x1f1d8670a50>"
      ]
     },
     "execution_count": 36,
     "metadata": {},
     "output_type": "execute_result"
    }
   ],
   "source": [
    "# Huấn luyện mô hình\n",
    "model.fit(X_train, y_train, epochs=10, batch_size=64, validation_data=(X_test, y_test))\n"
   ]
  },
  {
   "cell_type": "code",
   "execution_count": 37,
   "id": "3cc64783-e00f-42dd-94ad-2e7f2bb26dc9",
   "metadata": {},
   "outputs": [
    {
     "name": "stdout",
     "output_type": "stream",
     "text": [
      "\u001b[1m2328/2328\u001b[0m \u001b[32m━━━━━━━━━━━━━━━━━━━━\u001b[0m\u001b[37m\u001b[0m \u001b[1m12s\u001b[0m 5ms/step - accuracy: 0.9825 - loss: 0.0752\n",
      "Accuracy: 98.31%\n"
     ]
    }
   ],
   "source": [
    "# Đánh giá mô hình\n",
    "loss, accuracy = model.evaluate(X_test, y_test)\n",
    "print(f\"Accuracy: {accuracy * 100:.2f}%\")"
   ]
  },
  {
   "cell_type": "code",
   "execution_count": null,
   "id": "6a8ffc91-60b4-4176-bdb3-6b9209f87599",
   "metadata": {},
   "outputs": [],
   "source": []
  }
 ],
 "metadata": {
  "kernelspec": {
   "display_name": "Python 3 (ipykernel)",
   "language": "python",
   "name": "python3"
  },
  "language_info": {
   "codemirror_mode": {
    "name": "ipython",
    "version": 3
   },
   "file_extension": ".py",
   "mimetype": "text/x-python",
   "name": "python",
   "nbconvert_exporter": "python",
   "pygments_lexer": "ipython3",
   "version": "3.11.7"
  }
 },
 "nbformat": 4,
 "nbformat_minor": 5
}
